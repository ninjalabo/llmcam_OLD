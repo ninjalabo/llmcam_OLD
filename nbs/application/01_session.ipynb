{
 "cells": [
  {
   "cell_type": "markdown",
   "metadata": {},
   "source": [
    "# Browser session\n",
    "\n",
    "> Python module to set up and manage multiple browser sessions in web application."
   ]
  },
  {
   "cell_type": "code",
   "execution_count": null,
   "metadata": {},
   "outputs": [],
   "source": [
    "#| default_exp application.session"
   ]
  },
  {
   "cell_type": "code",
   "execution_count": null,
   "metadata": {},
   "outputs": [],
   "source": [
    "#| hide\n",
    "from nbdev.showdoc import *"
   ]
  },
  {
   "cell_type": "markdown",
   "metadata": {},
   "source": [
    "Concurrency should be taken into consideration in developing our web application. Concurrency refers to the ability of the application to handle multiple tasks or connections simultaneously, without blocking or waiting for other tasks to complete. This is crucial for ensuring that the service remains responsive and scalable, especially when serving a large number of users.\n",
    "\n",
    "However, with our current framework, there are multiple functions that utilize global variables, which will be shared from the server-side. This can cause significant issues in a concurrent environment, such as race conditions, where multiple tasks or connections attempt to read and modify the same variable simultaneously. This may lead to unpredictable behavior, data corruption, or incorrect results. For instance, if two users' requests depend on the same global variable being updated, the updates might overwrite each other or produce inconsistent states, affecting the reliability of the application.\n",
    "\n",
    "Our current solution to this issue involves introducing the concept of `session`. Each `session` represents one connection with a user browser and all session-specific variables are stored in a higher-level mapping of session ID to values. Our frameworks will also configured towards the use of session."
   ]
  },
  {
   "cell_type": "code",
   "execution_count": null,
   "metadata": {},
   "outputs": [],
   "source": [
    "#| export\n",
    "import uuid\n",
    "\n",
    "from typing import Callable, Optional\n",
    "from llmcam.core.fc import *\n",
    "from llmcam.core.fn_to_schema import *\n",
    "from llmcam.vision.ytlive import *\n",
    "from llmcam.vision.gpt4v import *\n",
    "from llmcam.vision.yolo import *\n",
    "from llmcam.vision.dtcam import *\n",
    "from llmcam.vision.plotting import *\n",
    "from llmcam.utils.store import *\n",
    "from llmcam.utils.file_manager import *\n",
    "from llmcam.utils.notification import *\n",
    "from llmcam.utils.bash_command import *"
   ]
  },
  {
   "cell_type": "markdown",
   "metadata": {},
   "source": [
    "## Session messages\n",
    "\n",
    "As a chatbot application, we usually require the whole conversation being pasted into chat history rather than using a single new message for a smooth user experience. For simplication purpose, we introduce a mock database for storing our `messages` list for each session:"
   ]
  },
  {
   "cell_type": "code",
   "execution_count": null,
   "metadata": {},
   "outputs": [],
   "source": [
    "#| export\n",
    "session_messages = {}  # Mappping of session_id to messages"
   ]
  },
  {
   "cell_type": "code",
   "execution_count": null,
   "metadata": {},
   "outputs": [],
   "source": [
    "#| export\n",
    "def retrieve_session_message(session_id: str) -> list:\n",
    "    \"\"\"Retrieve the messages for a given session_id\"\"\"\n",
    "    return session_messages.get(session_id, [])"
   ]
  },
  {
   "cell_type": "code",
   "execution_count": null,
   "metadata": {},
   "outputs": [
    {
     "data": {
      "text/markdown": [
       "---\n",
       "\n",
       "### retrieve_session_message\n",
       "\n",
       ">      retrieve_session_message (session_id:str)\n",
       "\n",
       "*Retrieve the messages for a given session_id*"
      ],
      "text/plain": [
       "---\n",
       "\n",
       "### retrieve_session_message\n",
       "\n",
       ">      retrieve_session_message (session_id:str)\n",
       "\n",
       "*Retrieve the messages for a given session_id*"
      ]
     },
     "execution_count": null,
     "metadata": {},
     "output_type": "execute_result"
    }
   ],
   "source": [
    "show_doc(retrieve_session_message)"
   ]
  },
  {
   "cell_type": "markdown",
   "metadata": {},
   "source": [
    "## Session tools\n",
    "\n",
    "One major utility in our framework that uses global variables is the `llmcam.utils.store` module which updates the global tools list. To configure this towards `session` framework, we can save the `tools` instance (Python pointer) of each `session` and define a custom fixup function that retrieves this instance and passes it to the actual manager tools. The schema of these manager tools also require a new `metadata` field called `session_id` for the fixup function to identify the correct instance."
   ]
  },
  {
   "cell_type": "code",
   "execution_count": null,
   "metadata": {},
   "outputs": [],
   "source": [
    "#| export\n",
    "session_tools = {}  # Mappping of session_id to tools"
   ]
  },
  {
   "cell_type": "code",
   "execution_count": null,
   "metadata": {},
   "outputs": [],
   "source": [
    "#| export\n",
    "def retrieve_session_tools(session_id: str) -> list:\n",
    "    \"\"\"Retrieve the tools for a given session_id\"\"\"\n",
    "    return session_tools.get(session_id, [])"
   ]
  },
  {
   "cell_type": "code",
   "execution_count": null,
   "metadata": {},
   "outputs": [
    {
     "data": {
      "text/markdown": [
       "---\n",
       "\n",
       "### retrieve_session_tools\n",
       "\n",
       ">      retrieve_session_tools (session_id:str)\n",
       "\n",
       "*Retrieve the tools for a given session_id*"
      ],
      "text/plain": [
       "---\n",
       "\n",
       "### retrieve_session_tools\n",
       "\n",
       ">      retrieve_session_tools (session_id:str)\n",
       "\n",
       "*Retrieve the tools for a given session_id*"
      ]
     },
     "execution_count": null,
     "metadata": {},
     "output_type": "execute_result"
    }
   ],
   "source": [
    "show_doc(retrieve_session_tools)"
   ]
  },
  {
   "cell_type": "code",
   "execution_count": null,
   "metadata": {},
   "outputs": [],
   "source": [
    "#| export\n",
    "# Utility functions to manage tools per session\n",
    "def prepare_handler_schemas(\n",
    "    session_id: str,  # Session ID to use\n",
    "    fixup: Callable = None,  # Optional function to fix up the execution\n",
    "):\n",
    "    return [\n",
    "        handler_schema(function, service_name=\"toolbox_manager\", fixup=fixup, session_id=session_id) for \\\n",
    "        function in [add_api_tools, add_function_tools, remove_tools]\n",
    "    ]\n",
    "\n",
    "def execute_handler(\n",
    "    function_name: str,  # Name of the function to execute\n",
    "    session_id: str,  # Session ID to use\n",
    "    **kwargs,  # Additional arguments to pass to the function\n",
    "):\n",
    "    tools = session_tools[session_id]\n",
    "    return execute_handler_core(tools, function_name, **kwargs)"
   ]
  },
  {
   "cell_type": "code",
   "execution_count": null,
   "metadata": {},
   "outputs": [
    {
     "data": {
      "text/markdown": [
       "---\n",
       "\n",
       "[source](https://github.com/ninjalabo/llmcam/blob/main/llmcam/application/chat_ui.py#L56){target=\"_blank\" style=\"float:right; font-size:smaller\"}\n",
       "\n",
       "### prepare_handler_schemas\n",
       "\n",
       ">      prepare_handler_schemas (session_id:str, fixup:Callable=None)\n",
       "\n",
       "|    | **Type** | **Default** | **Details** |\n",
       "| -- | -------- | ----------- | ----------- |\n",
       "| session_id | str |  | Session ID to use |\n",
       "| fixup | Callable | None | Optional function to fix up the execution |"
      ],
      "text/plain": [
       "---\n",
       "\n",
       "[source](https://github.com/ninjalabo/llmcam/blob/main/llmcam/application/chat_ui.py#L56){target=\"_blank\" style=\"float:right; font-size:smaller\"}\n",
       "\n",
       "### prepare_handler_schemas\n",
       "\n",
       ">      prepare_handler_schemas (session_id:str, fixup:Callable=None)\n",
       "\n",
       "|    | **Type** | **Default** | **Details** |\n",
       "| -- | -------- | ----------- | ----------- |\n",
       "| session_id | str |  | Session ID to use |\n",
       "| fixup | Callable | None | Optional function to fix up the execution |"
      ]
     },
     "execution_count": null,
     "metadata": {},
     "output_type": "execute_result"
    }
   ],
   "source": [
    "show_doc(prepare_handler_schemas)"
   ]
  },
  {
   "cell_type": "code",
   "execution_count": null,
   "metadata": {},
   "outputs": [
    {
     "data": {
      "text/markdown": [
       "---\n",
       "\n",
       "[source](https://github.com/ninjalabo/llmcam/blob/main/llmcam/application/chat_ui.py#L65){target=\"_blank\" style=\"float:right; font-size:smaller\"}\n",
       "\n",
       "### execute_handler\n",
       "\n",
       ">      execute_handler (function_name:str, session_id:str, **kwargs)\n",
       "\n",
       "|    | **Type** | **Details** |\n",
       "| -- | -------- | ----------- |\n",
       "| function_name | str | Name of the function to execute |\n",
       "| session_id | str | Session ID to use |\n",
       "| kwargs |  |  |"
      ],
      "text/plain": [
       "---\n",
       "\n",
       "[source](https://github.com/ninjalabo/llmcam/blob/main/llmcam/application/chat_ui.py#L65){target=\"_blank\" style=\"float:right; font-size:smaller\"}\n",
       "\n",
       "### execute_handler\n",
       "\n",
       ">      execute_handler (function_name:str, session_id:str, **kwargs)\n",
       "\n",
       "|    | **Type** | **Details** |\n",
       "| -- | -------- | ----------- |\n",
       "| function_name | str | Name of the function to execute |\n",
       "| session_id | str | Session ID to use |\n",
       "| kwargs |  |  |"
      ]
     },
     "execution_count": null,
     "metadata": {},
     "output_type": "execute_result"
    }
   ],
   "source": [
    "show_doc(execute_handler)"
   ]
  },
  {
   "cell_type": "markdown",
   "metadata": {},
   "source": [
    "## Session notifications\n",
    "\n",
    "The notifications system is quite more complicated. It relies on also subtools to pass in sub GPT in the separate thread running notification stream. These subtools include a tool to send notification and a tool to stop the stream. The default utilities function for this uses a common global pointer `stream_thread`, which will not work in this case. Hence, we need to implement the new utilities function:\n",
    "\n",
    "- `execute_send_notification`: Instead of implementing the actual function, a `fixup` is implemented to capitalize on the metadata field `session_id`. This function also utilizes the feature that a websocket sender function can be saved in global collections -  [example with real time Chat App](https://docs.fastht.ml/explains/websockets.html#real-time-chat-app). Therefore, it simply retrieves the sender function with `session_id` and uses it to send the message.  \n",
    "- `execute_stopper`: Instead of implementing the actual function, a `fixup` is implemented to capitalize on the metadata field `session_id` and `noti_id`. The idea is that each notification stream is given a unique ID and saved in a mapping of IDs to notification streams. This mapping is also retrievable by `session_id`.\n",
    "\n",
    "We also need to implement a custom `start_notification_stream` function which will be used as a tool by GPT Function Calling. This function will utilize `session_id` and create a unique `noti_id` to define schemas for subtools with these values as metadata. It also defines these schemas such that the `module` metadata is missing to ensure the attached `fixup` function will be called instead. However, because it uses a metadata field `session_id`, it will also need to have a `fixup` function."
   ]
  },
  {
   "cell_type": "code",
   "execution_count": null,
   "metadata": {},
   "outputs": [],
   "source": [
    "#| export\n",
    "session_notis = {}  # Mappping of session_id to notification sender \\\n",
    "                    # and notification streams"
   ]
  },
  {
   "cell_type": "code",
   "execution_count": null,
   "metadata": {},
   "outputs": [],
   "source": [
    "#| export\n",
    "def retrieve_session_notis(session_id: str) -> tuple:\n",
    "    \"\"\"Retrieve the notification sender and streams for a given session_id\"\"\"\n",
    "    return session_notis.get(session_id, None)"
   ]
  },
  {
   "cell_type": "code",
   "execution_count": null,
   "metadata": {},
   "outputs": [],
   "source": [
    "#| export\n",
    "def set_noti_sender(session_id: str, noti_sender: Callable):\n",
    "    \"\"\"Set the notification sender for a given session_id\"\"\"\n",
    "    session_notis[session_id] = (noti_sender, {})"
   ]
  },
  {
   "cell_type": "code",
   "execution_count": null,
   "metadata": {},
   "outputs": [],
   "source": [
    "#| export\n",
    "# Utility functions to manage notifications per session\n",
    "def execute_send_notification(function_name, session_id, msg, **kwargs):\n",
    "    \"\"\"Fixup function to send a notification.\"\"\"\n",
    "    global session_notis\n",
    "    sender, _ = session_notis[session_id]  # Get the sender\n",
    "    sender(msg)\n",
    "    return 'Notification sent'\n",
    "\n",
    "def execute_stopper(function_name, session_id, noti_id, **kwargs):\n",
    "    \"\"\"Fixup function to stop a notification stream.\"\"\"\n",
    "    global session_notis\n",
    "    _, notis = session_notis[session_id]  # Get the notification streams \n",
    "    notis[noti_id].stop()  # Stop the stream with the given ID\n",
    "    return 'Notification stream stopped'\n",
    "\n",
    "# Utility to define the schemas for the sender and stopper\n",
    "def prepare_sender_schema(session_id: str):\n",
    "    return {\n",
    "        'type': 'function',\n",
    "        'function': {\n",
    "            'name': 'send_notification',\n",
    "            'description': 'Send a notification with a message',\n",
    "            'metadata': {\n",
    "                'session_id': session_id\n",
    "            },\n",
    "            'parameters': {'type': 'object',\n",
    "                'properties': {'msg': {'type': 'string',\n",
    "                'description': 'Notification message to send'}},\n",
    "                'required': ['msg']},\n",
    "            'fixup': f\"{execute_send_notification.__module__}.{execute_send_notification.__name__}\"\n",
    "        }\n",
    "    }\n",
    "\n",
    "def prepare_stopper_schema(session_id: str):\n",
    "    return {\n",
    "        'type': 'function',\n",
    "        'function': {\n",
    "            'name': 'stop_notification',\n",
    "            'description': 'Stop the notification stream',\n",
    "            'parameters': {\n",
    "                'type': 'object', \n",
    "                'properties': {\n",
    "                    'noti_id': {\n",
    "                        'type': 'string', \n",
    "                        'description': 'Unique UUID of the notification stream to stop, provided when the stream was started'}\n",
    "                }, \n",
    "                'required': ['noti_id']},\n",
    "            'metadata': {\n",
    "                'session_id': session_id,\n",
    "            },\n",
    "            'fixup': f\"{execute_stopper.__module__}.{execute_stopper.__name__}\"\n",
    "        }\n",
    "    }"
   ]
  },
  {
   "cell_type": "code",
   "execution_count": null,
   "metadata": {},
   "outputs": [
    {
     "data": {
      "text/markdown": [
       "---\n",
       "\n",
       "[source](https://github.com/ninjalabo/llmcam/blob/main/llmcam/application/chat_ui.py#L75){target=\"_blank\" style=\"float:right; font-size:smaller\"}\n",
       "\n",
       "### execute_send_notification\n",
       "\n",
       ">      execute_send_notification (function_name, session_id, msg, **kwargs)\n",
       "\n",
       "*Fixup function to send a notification.*"
      ],
      "text/plain": [
       "---\n",
       "\n",
       "[source](https://github.com/ninjalabo/llmcam/blob/main/llmcam/application/chat_ui.py#L75){target=\"_blank\" style=\"float:right; font-size:smaller\"}\n",
       "\n",
       "### execute_send_notification\n",
       "\n",
       ">      execute_send_notification (function_name, session_id, msg, **kwargs)\n",
       "\n",
       "*Fixup function to send a notification.*"
      ]
     },
     "execution_count": null,
     "metadata": {},
     "output_type": "execute_result"
    }
   ],
   "source": [
    "show_doc(execute_send_notification)"
   ]
  },
  {
   "cell_type": "code",
   "execution_count": null,
   "metadata": {},
   "outputs": [
    {
     "data": {
      "text/markdown": [
       "---\n",
       "\n",
       "[source](https://github.com/ninjalabo/llmcam/blob/main/llmcam/application/chat_ui.py#L82){target=\"_blank\" style=\"float:right; font-size:smaller\"}\n",
       "\n",
       "### execute_stopper\n",
       "\n",
       ">      execute_stopper (function_name, session_id, noti_id, **kwargs)\n",
       "\n",
       "*Fixup function to stop a notification stream.*"
      ],
      "text/plain": [
       "---\n",
       "\n",
       "[source](https://github.com/ninjalabo/llmcam/blob/main/llmcam/application/chat_ui.py#L82){target=\"_blank\" style=\"float:right; font-size:smaller\"}\n",
       "\n",
       "### execute_stopper\n",
       "\n",
       ">      execute_stopper (function_name, session_id, noti_id, **kwargs)\n",
       "\n",
       "*Fixup function to stop a notification stream.*"
      ]
     },
     "execution_count": null,
     "metadata": {},
     "output_type": "execute_result"
    }
   ],
   "source": [
    "show_doc(execute_stopper)"
   ]
  },
  {
   "cell_type": "markdown",
   "metadata": {},
   "source": [
    "Implementation of custom `start_notification_stream`:"
   ]
  },
  {
   "cell_type": "code",
   "execution_count": null,
   "metadata": {},
   "outputs": [],
   "source": [
    "#| export\n",
    "def start_notification_stream(\n",
    "    session_id: str,  # Session ID to use\n",
    "    messages: list,  # All the previous messages in the conversation\n",
    "):\n",
    "    \"\"\"Start a notification stream to monitor a process described in messages.\"\"\"\n",
    "    global session_notis\n",
    "    global session_tools\n",
    "\n",
    "    _, notis = session_notis[session_id]  # Get the notification streams\n",
    "\n",
    "    # Define a new notification stream with a unique ID\n",
    "    noti_id = str(uuid.uuid4())\n",
    "    \n",
    "    # Describe the sender and stopper functions\n",
    "    sender_schema = prepare_sender_schema(session_id)\n",
    "    stopper_schema = prepare_stopper_schema(session_id)\n",
    "\n",
    "    # Define a function to start the stream\n",
    "    def stream_starter(tools, messages):\n",
    "        notis[noti_id] = StreamThread(noti_id, tools, messages)\n",
    "        notis[noti_id].start()\n",
    "\n",
    "    # Extract the tools for the session\n",
    "    tools = session_tools[session_id]\n",
    "    # Remove the stop_notification tool from the list of tools to avoid duplication\n",
    "    tools = [ tool for tool in tools if tool['function']['name'] != 'stop_notification' ] \n",
    "\n",
    "    submessages = [ message for message in messages ]\n",
    "    submessages.append(form_msg(\n",
    "        'system',\n",
    "        f'Notification stream started with ID {noti_id}. Complete the stream here.'\n",
    "    ))\n",
    "\n",
    "    # Start the notification stream\n",
    "    notification_stream_core(\n",
    "        tools, \n",
    "        submessages,\n",
    "        stream_starter=stream_starter,\n",
    "        send_notification_schema=sender_schema,\n",
    "        stream_stopper_schema=stopper_schema\n",
    "    )\n",
    "\n",
    "    # Return the ID of the notification stream  \n",
    "    return f\"Notification stream started with ID {noti_id}\" "
   ]
  },
  {
   "cell_type": "markdown",
   "metadata": {},
   "source": [
    "Define the `fixup` function for starting a notification stream which passes in `session_id` to `start_notification_stream`. Define also a function to attach `session_id` as metadata for the notification FC schema and attach the `fixup` function."
   ]
  },
  {
   "cell_type": "code",
   "execution_count": null,
   "metadata": {},
   "outputs": [],
   "source": [
    "#| export\n",
    "def prepare_notification_schemas(\n",
    "        session_id: str,  # Session ID to use\n",
    "        fixup: Callable = None,  # Optional function to fix up the execution\n",
    "    ):  # Prepare the notification schema\n",
    "    schema = process_notification_schema(start_notification_stream)  # Get the schema for starting notification stream\n",
    "    # Set additional metadata\n",
    "    schema['function']['metadata']['session_id'] = session_id  \n",
    "    if fixup: schema['function']['fixup'] = f\"{fixup.__module__}.{fixup.__name__}\"\n",
    "    return schema\n",
    "\n",
    "def execute_start_notification_stream(function_name, session_id, messages, **kwargs):\n",
    "    \"\"\"Fixup function to start a notification stream.\"\"\"\n",
    "    return start_notification_stream(session_id, messages)"
   ]
  },
  {
   "cell_type": "markdown",
   "metadata": {},
   "source": [
    "## Setup\n",
    "\n",
    "Implement some utilities to manage all session-related data:"
   ]
  },
  {
   "cell_type": "code",
   "execution_count": null,
   "metadata": {},
   "outputs": [],
   "source": [
    "#| export\n",
    "# Set up default tools from our `llmcam.utils` and `llmcam.vision` modules.\n",
    "default_tools = [function_schema(fn) for fn in (\n",
    "    select_youtube_live_url,\n",
    "    capture_youtube_live_frame, \n",
    "    ask_gpt4v_about_image_file,\n",
    "    detect_objects,\n",
    "    cap,\n",
    "    list_image_files,\n",
    "    list_detection_files,\n",
    "    plot_object,\n",
    "    execute_bash_command,\n",
    "    camera_address_book,\n",
    ")]"
   ]
  },
  {
   "cell_type": "code",
   "execution_count": null,
   "metadata": {},
   "outputs": [],
   "source": [
    "#| export\n",
    "def init_session(session_id: Optional[str] = None):\n",
    "    if session_id is None or session_id not in session_messages:\n",
    "        # Initialize tools in session tools and create a session ID\n",
    "        session_id = str(uuid.uuid4())\n",
    "\n",
    "        # Add default tools, prepare handler schemas, prepare notification schemas, and prepare stopper schema\n",
    "        session_tools[session_id] = []\n",
    "        session_tools[session_id].extend(prepare_handler_schemas(session_id, execute_handler))\n",
    "        session_tools[session_id].extend(default_tools)\n",
    "        session_tools[session_id].append(prepare_notification_schemas(session_id, execute_start_notification_stream))\n",
    "        session_tools[session_id].append(prepare_stopper_schema(session_id))\n",
    "\n",
    "        # Initialize messages in session messages\n",
    "        session_messages[session_id] = []\n",
    "    \n",
    "    return session_id"
   ]
  },
  {
   "cell_type": "code",
   "execution_count": null,
   "metadata": {},
   "outputs": [],
   "source": [
    "#| export\n",
    "def remove_session(session_id: str):\n",
    "    \"\"\"Remove the session with the given session_id\"\"\"\n",
    "    if session_id in session_messages:\n",
    "        del session_messages[session_id]\n",
    "    if session_id in session_tools:\n",
    "        del session_tools[session_id]\n",
    "    if session_id in session_notis:\n",
    "        _, notis = session_notis[session_id]\n",
    "        for noti in notis.values():\n",
    "            noti.stop()\n",
    "        del session_notis[session_id]"
   ]
  },
  {
   "cell_type": "code",
   "execution_count": null,
   "metadata": {},
   "outputs": [],
   "source": [
    "#| hide\n",
    "import nbdev; nbdev.nbdev_export()"
   ]
  }
 ],
 "metadata": {
  "kernelspec": {
   "display_name": "python3",
   "language": "python",
   "name": "python3"
  }
 },
 "nbformat": 4,
 "nbformat_minor": 2
}
