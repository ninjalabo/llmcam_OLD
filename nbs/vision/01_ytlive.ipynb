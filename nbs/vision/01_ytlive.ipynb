{
 "cells": [
  {
   "cell_type": "markdown",
   "id": "eb5736f9-c84c-4e22-93c1-ad11a55ccfaa",
   "metadata": {},
   "source": [
    "# YouTube Live Capture\n",
    "\n",
    "> Python module for capturing images from YouTube live"
   ]
  },
  {
   "cell_type": "code",
   "execution_count": null,
   "id": "2c949aa3-61ad-4266-848b-fa9b022b54a5",
   "metadata": {},
   "outputs": [],
   "source": [
    "#| default_exp vision.ytlive"
   ]
  },
  {
   "cell_type": "code",
   "execution_count": null,
   "id": "f10b8662-b70b-4ef5-b43c-85f4855bbe19",
   "metadata": {},
   "outputs": [],
   "source": [
    "#| hide\n",
    "from nbdev.showdoc import *"
   ]
  },
  {
   "cell_type": "code",
   "execution_count": null,
   "id": "d21d2a2f-0450-408c-bb6f-b7f7aaa6fa04",
   "metadata": {},
   "outputs": [],
   "source": [
    "#| export\n",
    "from datetime import datetime\n",
    "from IPython.display import Image, display\n",
    "from pathlib import Path\n",
    "from PIL import Image\n",
    "from typing import Optional\n",
    "\n",
    "import cv2\n",
    "import glob\n",
    "import matplotlib.pyplot as plt\n",
    "import os\n",
    "import pytesseract\n",
    "import time\n",
    "import yt_dlp as youtube_dl"
   ]
  },
  {
   "cell_type": "markdown",
   "id": "f490ddcb",
   "metadata": {},
   "source": [
    "## Youtube Live Capture experiment\n",
    "\n",
    "This experiment focuses on capturing Youtube Live from public cameras monitoring multiple Näkymä Helsingistä locations. We can first extract information about the Youtube Live using the library `yt_dlp`."
   ]
  },
  {
   "cell_type": "code",
   "execution_count": null,
   "id": "5f9eb642-ee4e-4150-ae94-3be5ab367c47",
   "metadata": {},
   "outputs": [],
   "source": [
    "#| export\n",
    "# Näkymä Helsingistä location list\n",
    "nakyma_helsinki_known_places = [\n",
    "    \"Olympiaterminaali\",\n",
    "    \"Etelasatama\",\n",
    "    #\"Eteläsatama\",  # fixup\n",
    "    \"Eteladsatama\", # fixup\n",
    "    \"Presidentinlinna\",\n",
    "    \"Tuomiokirkko\",\n",
    "    \"Kauppatori\",\n",
    "    \"Kauppator\",    # fixup   \n",
    "    \"Torni\",\n",
    "    \"Valkosaari\",\n",
    "]"
   ]
  },
  {
   "cell_type": "code",
   "execution_count": null,
   "id": "5cbad9ad-7b43-43ad-9ba0-f41f490ed5e8",
   "metadata": {},
   "outputs": [],
   "source": [
    "#|export\n",
    "nakyma_helsinkigista_youtube_live_url = \"https://www.youtube.com/watch?v=LMZQ7eFhm58\"\n",
    "ydl_opts = {\n",
    "    'cookiefile': \"cookies.txt\",  # Path to the exported cookies file,  # Use cookies for authentication\n",
    "    'download': False  # Set to True if you want to download\n",
    "}"
   ]
  },
  {
   "cell_type": "code",
   "execution_count": null,
   "id": "584fdc9a-ae84-403b-abb9-d35ade8a4219",
   "metadata": {},
   "outputs": [],
   "source": [
    "#| export\n",
    "def stream_url(ytlive_url:str, ydl_opts:dict) -> str:\n",
    "    with youtube_dl.YoutubeDL(ydl_opts) as ydl:\n",
    "        info = ydl.extract_info(ytlive_url, download=False)\n",
    "        for o in info['formats']:\n",
    "            if o['resolution'] == '1280x720':\n",
    "                return o['url']\n",
    "        else:\n",
    "            raise ValueError(\"No 1280x720 format\")    "
   ]
  },
  {
   "cell_type": "code",
   "execution_count": null,
   "id": "f2a64f27",
   "metadata": {},
   "outputs": [
    {
     "name": "stdout",
     "output_type": "stream",
     "text": [
      "[youtube] Extracting URL: https://www.youtube.com/watch?v=LMZQ7eFhm58\n",
      "[youtube] LMZQ7eFhm58: Downloading webpage\n",
      "[youtube] LMZQ7eFhm58: Downloading ios player API JSON\n",
      "[youtube] LMZQ7eFhm58: Downloading tv player API JSON\n",
      "[youtube] LMZQ7eFhm58: Downloading m3u8 information\n"
     ]
    },
    {
     "data": {
      "text/plain": [
       "'https://manifest.googlevideo.com/api/manifest/hls_playlist/expire/1736836379/ei/u7CFZ4TTI_GRv_IPtvXPuQs/ip/82.130.25.234/id/LMZQ7eFhm58.5/itag/232/source/yt_live_broadcast/requiressl/yes/ratebypass/yes/live/1/sgovp/gir%3Dyes%3Bitag%3D136/rqh/1/hdlc/1/hls_chunk_host/rr2---sn-ovgq0oxu-5goe.googlevideo.com/xpc/EgVo2aDSNQ%3D%3D/playlist_duration/3600/manifest_duration/3600/bui/AY2Et-M1JZbohArqpqIsZTVEI4c_xxZ1YZtUkvEu15V05AlQo0UPIDgAxB2VHMr7q8b0TvHnnRrnNJ5y/spc/9kzgDYZI8zHCYs3PwTjfj3JfxfND85dAsNhfljY8AMb8h2HW1CEo/vprv/1/playlist_type/DVR/initcwndbps/5470000/met/1736814779,/mh/l8/mm/44/mn/sn-ovgq0oxu-5goe/ms/lva/mv/m/mvi/2/pl/18/rms/lva,lva/dover/13/pacing/0/short_key/1/keepalive/yes/fexp/51326932,51335594,51353498,51371294/mt/1736814262/sparams/expire,ei,ip,id,itag,source,requiressl,ratebypass,live,sgovp,rqh,hdlc,xpc,playlist_duration,manifest_duration,bui,spc,vprv,playlist_type/sig/AJfQdSswRAIgSRa1XoQ6Px4Gf4USXLK4jUYP5pJOMBkvW1SRlSueiugCIE0u-CFTMfVh3GvSWNpQZXUywLeEWcktrhCcaTsRyQ-G/lsparams/hls_chunk_host,initcwndbps,met,mh,mm,mn,ms,mv,mvi,pl,rms/lsig/AGluJ3MwRQIgfQvf7Rg9MUFGHT1PJET972dXLFYUbRDyUBWy3pHTDzoCIQDmPkScGtpEr7vf875h3ZydIR_S86cQ12ONALggVvAppg%3D%3D/playlist/index.m3u8'"
      ]
     },
     "execution_count": null,
     "metadata": {},
     "output_type": "execute_result"
    }
   ],
   "source": [
    "#| eval: false\n",
    "stream_url(nakyma_helsinkigista_youtube_live_url, ydl_opts)"
   ]
  },
  {
   "cell_type": "markdown",
   "id": "67329d4b",
   "metadata": {},
   "source": [
    "At this point, we have obtained a special link for downloading captures from this livestream. This URL is a dynamically generated link used by YouTube for delivering live streaming content via an HLS (HTTP Live Streaming) protocol. We can proceed to donwload content chunks from this link with `cv2`."
   ]
  },
  {
   "cell_type": "markdown",
   "id": "c406a4fc",
   "metadata": {},
   "source": [
    "**NOTE**: This livestream contains a small frame at top left corner to display the current time and location. We can attempt to crop this small frame and extract further information from the captured image."
   ]
  },
  {
   "cell_type": "code",
   "execution_count": null,
   "id": "82b6c5c8-f983-41ea-a3da-411944b0c833",
   "metadata": {},
   "outputs": [],
   "source": [
    "#| export\n",
    "def show_frame(frame):\n",
    "    frame_rgb = cv2.cvtColor(frame, cv2.COLOR_BGR2RGB) # Convert from BGR to RGB for Matplotlib\n",
    "    plt.imshow(frame_rgb)\n",
    "    plt.axis('off')  # Hide axes\n",
    "    plt.show()   "
   ]
  },
  {
   "cell_type": "code",
   "execution_count": null,
   "id": "4bcd6018-9ae9-4a7b-8b5b-627202248e15",
   "metadata": {},
   "outputs": [],
   "source": [
    "#| export\n",
    "def crop_frame(frame, crop=(0, 0, 480, 30)):\n",
    "    x, y, w, h = crop\n",
    "    return frame[y:y+h, x:x+w]    "
   ]
  },
  {
   "cell_type": "code",
   "execution_count": null,
   "id": "a582b32d-9af1-40ab-802f-722fda7a4621",
   "metadata": {},
   "outputs": [],
   "source": [
    "#| export\n",
    "def frame_to_text(frame): return pytesseract.image_to_string(cv2.cvtColor(frame, cv2.COLOR_BGR2RGB)).strip()"
   ]
  },
  {
   "cell_type": "code",
   "execution_count": null,
   "id": "2c6b6f9c-db97-4b8a-af23-dc5334316fad",
   "metadata": {},
   "outputs": [],
   "source": [
    "#| export\n",
    "def known(txt:str, known_places:str) -> str:\n",
    "    \"\"\"Try to find one of `known_places` are included in the given `txt`\"\"\"\n",
    "    for o in known_places:\n",
    "        #print(o, \"in\", txt)\n",
    "        if o in txt:\n",
    "            return o\n",
    "    raise Exception(\"No place specified\")"
   ]
  },
  {
   "cell_type": "code",
   "execution_count": null,
   "id": "c218a153-22b8-4208-b700-2061ea8f56ee",
   "metadata": {},
   "outputs": [],
   "source": [
    "#| hide\n",
    "assert known(\"Torninnnnnn\", nakyma_helsinki_known_places)==\"Torni\""
   ]
  },
  {
   "cell_type": "code",
   "execution_count": null,
   "id": "d21963a1-e671-4c60-a159-7156ab533e79",
   "metadata": {},
   "outputs": [],
   "source": [
    "#| export\n",
    "def meta(frame, known_places=nakyma_helsinki_known_places, printing=False):\n",
    "    \"\"\"Withdraw meta data, datetime & place\"\"\"\n",
    "    # \"04.10.2024  14:53:49  Kauppatori\", Original format\n",
    "    txt = frame_to_text(frame)\n",
    "    if printing==True: print(txt)\n",
    "    dt = datetime.strptime(txt[:19],\"%d.%m.%Y %H:%M:%S\")\n",
    "    pl = known(txt[20:], known_places)\n",
    "    pl = pl.replace(\"Eteladsatama\", \"Etelasatama\") # fixup\n",
    "    pl = pl.replace(\"ä\", \"a\")                      # fixup\n",
    "    pl = pl.replace(\"kauppator\", \"kauppatori\")     # fixup\n",
    "    return dt, pl"
   ]
  },
  {
   "cell_type": "code",
   "execution_count": null,
   "id": "388c6a14-0540-440b-86cf-3226324589e2",
   "metadata": {},
   "outputs": [],
   "source": [
    "#| export\n",
    "def fname(prefix, dt, pl): return f\"\"\"{prefix}{dt.strftime(\"%Y.%m.%d_%H:%M:%S\")}_{pl}.jpg\"\"\""
   ]
  },
  {
   "cell_type": "markdown",
   "id": "588ad76d",
   "metadata": {},
   "source": [
    "Test workflow combining the above utilities and try saving the downloaded file in a local directory:"
   ]
  },
  {
   "cell_type": "code",
   "execution_count": null,
   "id": "ea32ec3a-8e2e-4138-961c-ccab9f2bd169",
   "metadata": {},
   "outputs": [
    {
     "name": "stdout",
     "output_type": "stream",
     "text": [
      "[youtube] Extracting URL: https://www.youtube.com/watch?v=LMZQ7eFhm58\n",
      "[youtube] LMZQ7eFhm58: Downloading webpage\n",
      "[youtube] LMZQ7eFhm58: Downloading ios player API JSON\n",
      "[youtube] LMZQ7eFhm58: Downloading tv player API JSON\n",
      "[youtube] LMZQ7eFhm58: Downloading m3u8 information\n",
      "Cropped frame:\n"
     ]
    },
    {
     "data": {
      "image/png": "[encoded data removed]",
      "text/plain": [
       "<Figure size 640x480 with 1 Axes>"
      ]
     },
     "metadata": {},
     "output_type": "display_data"
    },
    {
     "name": "stdout",
     "output_type": "stream",
     "text": [
      "Text in cropped frame: 14.01.2025 02:24:02 Kauppatori\n",
      "14.01.2025 02:24:02 Kauppatori\n",
      "File name: cap_2025.01.14_02:24:02_Kauppatori.jpg\n",
      "Saved to: /home/nghivo/tinyMLaaS/llmcam/data/cap_2025.01.14_02:24:02_Kauppatori.jpg\n"
     ]
    }
   ],
   "source": [
    "#| eval: false\n",
    "url = stream_url(nakyma_helsinkigista_youtube_live_url, ydl_opts)\n",
    "cap = cv2.VideoCapture(url)\n",
    "ret, frame = cap.read()\n",
    "if ret:\n",
    "    print(\"Cropped frame:\")\n",
    "    show_frame(crop_frame(frame))\n",
    "\n",
    "    print(\"Text in cropped frame:\", frame_to_text(crop_frame(frame)))\n",
    "    try:\n",
    "        file_name = fname(\"cap_\", *meta(crop_frame(frame), printing=True))\n",
    "    except:\n",
    "        file_name = fname(\"fail_\", datetime.now(), \"nowhere\")\n",
    "    print(\"File name:\", file_name)\n",
    "    path = Path(os.getenv(\"LLMCAM_DATA\", \"../data\"))/file_name\n",
    "    path.parent.mkdir(parents=True, exist_ok=True)\n",
    "    cv2.imwrite(path, frame)\n",
    "    print(\"Saved to:\", path)\n",
    "else:\n",
    "    print(\"Failed to capture frame.\")"
   ]
  },
  {
   "cell_type": "markdown",
   "id": "3b5be16d",
   "metadata": {},
   "source": [
    "As such, we can follow this guideline for implementing the modularized functions:\n",
    "\n",
    "1. Extract HSL URL from Youtube Live  \n",
    "2. Capture live images with this URL  \n",
    "3. Crop small frame and extract further metadata from captured images  \n",
    "4. Form suitable file names and save captured images  "
   ]
  },
  {
   "cell_type": "markdown",
   "id": "2e4db155",
   "metadata": {},
   "source": [
    "## Modularize with Live instances\n",
    "\n",
    "This section implements the modularized functions with Object-Oriented Programming approach (OOP). Each Youtube Live is managed by a `YTLive` instance, which captures images from its live stream when prompted."
   ]
  },
  {
   "cell_type": "markdown",
   "id": "e79a454c",
   "metadata": {},
   "source": [
    "### General Live instance\n",
    "\n",
    "**NOTE**: For a generic Youtube Live stream, step 3 in the described workflow is skipped and file name is generated as a combination of the current timestamp and user-input location."
   ]
  },
  {
   "cell_type": "code",
   "execution_count": null,
   "id": "26b08a52-d96b-4a7e-b397-b67835267489",
   "metadata": {},
   "outputs": [],
   "source": [
    "#| export\n",
    "class YTLive:\n",
    "    def __init__(\n",
    "        self,\n",
    "        url: str,  # YouTube Live URL\n",
    "        data_dir: Optional[Path] = Path(os.getenv(\"LLMCAM_DATA\", \"../data\")),  # Directory to store captured images\n",
    "        place: Optional[str] = \"nowhere\",  # Location name\n",
    "    ):\n",
    "        self.url = url\n",
    "        self.stream_url = stream_url(url, ydl_opts)\n",
    "        self.data_dir = data_dir\n",
    "        self.place = place\n",
    "\n",
    "    def file_name(self, frame=None):\n",
    "        return fname(\"cap_\", datetime.now(), self.place)\n",
    "\n",
    "    def capture(self) -> Path:\n",
    "        cap = cv2.VideoCapture(self.stream_url)\n",
    "        ret, frame = cap.read()\n",
    "        if ret==False:\n",
    "            raise Exception(\"Failed to capture frame.\")\n",
    "        fn = self.data_dir/self.file_name(frame)\n",
    "        cv2.imwrite(fn, frame)\n",
    "        return fn     \n",
    "\n",
    "    def __call__(self):\n",
    "        # __call__ method allows the instance to be called like a function\n",
    "        return self.capture()"
   ]
  },
  {
   "cell_type": "code",
   "execution_count": null,
   "id": "700f8f8b-e5a6-4bbe-9601-e15e76a6239a",
   "metadata": {},
   "outputs": [
    {
     "data": {
      "text/markdown": [
       "---\n",
       "\n",
       "[source](https://github.com/ninjalabo/llmcam/blob/main/llmcam/vision/ytlive.py#L97){target=\"_blank\" style=\"float:right; font-size:smaller\"}\n",
       "\n",
       "### YTLive\n",
       "\n",
       ">      YTLive (url:str, data_dir:Optional[pathlib.Path]=Path('/home/nghivo/tinyM\n",
       ">              LaaS/llmcam/data'), place:Optional[str]='nowhere')\n",
       "\n",
       "*Initialize self.  See help(type(self)) for accurate signature.*\n",
       "\n",
       "|    | **Type** | **Default** | **Details** |\n",
       "| -- | -------- | ----------- | ----------- |\n",
       "| url | str |  | YouTube Live URL |\n",
       "| data_dir | Optional | /home/nghivo/tinyMLaaS/llmcam/data | Directory to store captured images |\n",
       "| place | Optional | nowhere | Location name |"
      ],
      "text/plain": [
       "---\n",
       "\n",
       "[source](https://github.com/ninjalabo/llmcam/blob/main/llmcam/vision/ytlive.py#L97){target=\"_blank\" style=\"float:right; font-size:smaller\"}\n",
       "\n",
       "### YTLive\n",
       "\n",
       ">      YTLive (url:str, data_dir:Optional[pathlib.Path]=Path('/home/nghivo/tinyM\n",
       ">              LaaS/llmcam/data'), place:Optional[str]='nowhere')\n",
       "\n",
       "*Initialize self.  See help(type(self)) for accurate signature.*\n",
       "\n",
       "|    | **Type** | **Default** | **Details** |\n",
       "| -- | -------- | ----------- | ----------- |\n",
       "| url | str |  | YouTube Live URL |\n",
       "| data_dir | Optional | /home/nghivo/tinyMLaaS/llmcam/data | Directory to store captured images |\n",
       "| place | Optional | nowhere | Location name |"
      ]
     },
     "execution_count": null,
     "metadata": {},
     "output_type": "execute_result"
    }
   ],
   "source": [
    "show_doc(YTLive)"
   ]
  },
  {
   "cell_type": "markdown",
   "id": "5b8adc28",
   "metadata": {},
   "source": [
    "Test usage with a different live stream of Santa Claus Village:"
   ]
  },
  {
   "cell_type": "code",
   "execution_count": null,
   "id": "fe8727de-0a9d-4776-a9a3-1b78bcd32411",
   "metadata": {},
   "outputs": [
    {
     "name": "stdout",
     "output_type": "stream",
     "text": [
      "[youtube] Extracting URL: https://www.youtube.com/live/Cp4RRAEgpeU?si=IwqJ4QU1Umv9PdgW\n",
      "[youtube] Cp4RRAEgpeU: Downloading webpage\n",
      "[youtube] Cp4RRAEgpeU: Downloading ios player API JSON\n",
      "[youtube] Cp4RRAEgpeU: Downloading tv player API JSON\n",
      "[youtube] Cp4RRAEgpeU: Downloading m3u8 information\n",
      "\n",
      "File path: /home/nghivo/tinyMLaaS/llmcam/data/cap_2025.01.14_02:33:09_santaclausvillage.jpg\n"
     ]
    }
   ],
   "source": [
    "#| eval: false\n",
    "SantaClausVillage = YTLive(url=\"https://www.youtube.com/live/Cp4RRAEgpeU?si=IwqJ4QU1Umv9PdgW\", place=\"santaclausvillage\")\n",
    "file = SantaClausVillage()\n",
    "print()\n",
    "print(\"File path:\", file)"
   ]
  },
  {
   "cell_type": "markdown",
   "id": "4f52a1c0",
   "metadata": {},
   "source": [
    "### Näkymä Helsingistä Live instance\n",
    "\n",
    "We also add a special support for Näkymä Helsingistä livestream that utilizes the small frame at top left corner to extract metadata and generate file names. This is a subclass that inherits all other functions from `YTLive` while modifying the `file_name` function."
   ]
  },
  {
   "cell_type": "code",
   "execution_count": null,
   "id": "86b0e55f-816f-435b-a712-fed52a3cb6a8",
   "metadata": {},
   "outputs": [],
   "source": [
    "#| export\n",
    "class NHsta(YTLive):\n",
    "    def __init__(\n",
    "        self,\n",
    "        url: Optional[str] = \"https://www.youtube.com/watch?v=LMZQ7eFhm58\", # YouTube Live URL\n",
    "        data_dir: Optional[Path] = Path(os.getenv(\"LLMCAM_DATA\", \"../data\")), # Directory to store captured images\n",
    "        place: Optional[str] = \"unclear\", # Location name if OCR fails\n",
    "    ):\n",
    "        super().__init__(url, data_dir, place)\n",
    "    \n",
    "    def file_name(self, frame):\n",
    "        try:        \n",
    "            path = fname(\"cap_\", *meta(crop_frame(frame), printing=True))\n",
    "        except Exception as e:\n",
    "            path = super().file_name()\n",
    "            print(path)\n",
    "        return path"
   ]
  },
  {
   "cell_type": "code",
   "execution_count": null,
   "id": "492b3418-fb38-44bd-a8c7-dbd6200b8d17",
   "metadata": {},
   "outputs": [
    {
     "data": {
      "text/markdown": [
       "---\n",
       "\n",
       "[source](https://github.com/ninjalabo/llmcam/blob/main/llmcam/vision/ytlive.py#L126){target=\"_blank\" style=\"float:right; font-size:smaller\"}\n",
       "\n",
       "### NHsta\n",
       "\n",
       ">      NHsta (url:Optional[str]='https://www.youtube.com/watch?v=LMZQ7eFhm58', d\n",
       ">             ata_dir:Optional[pathlib.Path]=Path('/home/nghivo/tinyMLaaS/llmcam\n",
       ">             /data'), place:Optional[str]='unclear')\n",
       "\n",
       "*Initialize self.  See help(type(self)) for accurate signature.*\n",
       "\n",
       "|    | **Type** | **Default** | **Details** |\n",
       "| -- | -------- | ----------- | ----------- |\n",
       "| url | Optional | https://www.youtube.com/watch?v=LMZQ7eFhm58 | YouTube Live URL |\n",
       "| data_dir | Optional | /home/nghivo/tinyMLaaS/llmcam/data | Directory to store captured images |\n",
       "| place | Optional | unclear | Location name if OCR fails |"
      ],
      "text/plain": [
       "---\n",
       "\n",
       "[source](https://github.com/ninjalabo/llmcam/blob/main/llmcam/vision/ytlive.py#L126){target=\"_blank\" style=\"float:right; font-size:smaller\"}\n",
       "\n",
       "### NHsta\n",
       "\n",
       ">      NHsta (url:Optional[str]='https://www.youtube.com/watch?v=LMZQ7eFhm58', d\n",
       ">             ata_dir:Optional[pathlib.Path]=Path('/home/nghivo/tinyMLaaS/llmcam\n",
       ">             /data'), place:Optional[str]='unclear')\n",
       "\n",
       "*Initialize self.  See help(type(self)) for accurate signature.*\n",
       "\n",
       "|    | **Type** | **Default** | **Details** |\n",
       "| -- | -------- | ----------- | ----------- |\n",
       "| url | Optional | https://www.youtube.com/watch?v=LMZQ7eFhm58 | YouTube Live URL |\n",
       "| data_dir | Optional | /home/nghivo/tinyMLaaS/llmcam/data | Directory to store captured images |\n",
       "| place | Optional | unclear | Location name if OCR fails |"
      ]
     },
     "execution_count": null,
     "metadata": {},
     "output_type": "execute_result"
    }
   ],
   "source": [
    "show_doc(NHsta)"
   ]
  },
  {
   "cell_type": "markdown",
   "id": "04cae163",
   "metadata": {},
   "source": [
    "Test usage:"
   ]
  },
  {
   "cell_type": "code",
   "execution_count": null,
   "id": "df986d48-2050-4cfc-a26a-bad288dd56d8",
   "metadata": {},
   "outputs": [
    {
     "name": "stdout",
     "output_type": "stream",
     "text": [
      "[youtube] Extracting URL: https://www.youtube.com/watch?v=LMZQ7eFhm58\n",
      "[youtube] LMZQ7eFhm58: Downloading webpage\n",
      "[youtube] LMZQ7eFhm58: Downloading ios player API JSON\n",
      "[youtube] LMZQ7eFhm58: Downloading tv player API JSON\n",
      "[youtube] LMZQ7eFhm58: Downloading m3u8 information\n",
      "14.01.2025 02:24:07 Kauppatori\n",
      "\n",
      "File path: /home/nghivo/tinyMLaaS/llmcam/data/cap_2025.01.14_02:24:07_Kauppatori.jpg\n"
     ]
    }
   ],
   "source": [
    "#| eval: false\n",
    "NakymaHelsingista = NHsta()\n",
    "file = NakymaHelsingista()\n",
    "print()\n",
    "print(\"File path:\", file)"
   ]
  },
  {
   "cell_type": "markdown",
   "id": "54636d82",
   "metadata": {},
   "source": [
    "Try showing the cropped small frame from saved file:"
   ]
  },
  {
   "cell_type": "code",
   "execution_count": null,
   "id": "00b07988-941a-4c13-a9fa-2162c3c87834",
   "metadata": {},
   "outputs": [
    {
     "data": {
      "image/png": "[encoded data removed]",
      "text/plain": [
       "<Figure size 640x480 with 1 Axes>"
      ]
     },
     "metadata": {},
     "output_type": "display_data"
    }
   ],
   "source": [
    "#| eval: false\n",
    "def crop_image(path, crop=(0, 0, 480, 30)): return Image.open(path).crop(crop)\n",
    "def show_image(path):\n",
    "    plt.imshow(crop_image(path))\n",
    "    plt.axis('off')\n",
    "    plt.show()\n",
    "\n",
    "show_image(file)"
   ]
  },
  {
   "cell_type": "markdown",
   "id": "544f5a53",
   "metadata": {},
   "source": [
    "### General-purpose function for Function calling\n",
    "\n",
    "For simplification purpose, we implement a general-purpose function that initiate these Live instances and download file to be used in GPT Function calling:"
   ]
  },
  {
   "cell_type": "code",
   "execution_count": null,
   "id": "33f5b10d",
   "metadata": {},
   "outputs": [],
   "source": [
    "#| export\n",
    "def capture_youtube_live_frame(\n",
    "        link: Optional[str] = None,  # YouTube Live link\n",
    "        place: Optional[str] = None,  # Location of live image\n",
    "    ) -> str:  # Path to the saved image\n",
    "    \"\"\"Capture a jpeg image from YouTube Live and return the path to the saved image\"\"\"\n",
    "    if link is not None:\n",
    "        live = YTLive(url=link, place=place)\n",
    "    \n",
    "    else:\n",
    "        live = NHsta()\n",
    "    return str(live())"
   ]
  },
  {
   "cell_type": "code",
   "execution_count": null,
   "id": "74a6367d",
   "metadata": {},
   "outputs": [
    {
     "data": {
      "text/markdown": [
       "---\n",
       "\n",
       "[source](https://github.com/ninjalabo/llmcam/blob/main/llmcam/vision/ytlive.py#L144){target=\"_blank\" style=\"float:right; font-size:smaller\"}\n",
       "\n",
       "### capture_youtube_live_frame\n",
       "\n",
       ">      capture_youtube_live_frame (link:Optional[str]=None,\n",
       ">                                  place:Optional[str]=None)\n",
       "\n",
       "*Capture a jpeg image from YouTube Live and return the path to the saved image*\n",
       "\n",
       "|    | **Type** | **Default** | **Details** |\n",
       "| -- | -------- | ----------- | ----------- |\n",
       "| link | Optional | None | YouTube Live link |\n",
       "| place | Optional | None | Location of live image |\n",
       "| **Returns** | **str** |  | **Path to the saved image** |"
      ],
      "text/plain": [
       "---\n",
       "\n",
       "[source](https://github.com/ninjalabo/llmcam/blob/main/llmcam/vision/ytlive.py#L144){target=\"_blank\" style=\"float:right; font-size:smaller\"}\n",
       "\n",
       "### capture_youtube_live_frame\n",
       "\n",
       ">      capture_youtube_live_frame (link:Optional[str]=None,\n",
       ">                                  place:Optional[str]=None)\n",
       "\n",
       "*Capture a jpeg image from YouTube Live and return the path to the saved image*\n",
       "\n",
       "|    | **Type** | **Default** | **Details** |\n",
       "| -- | -------- | ----------- | ----------- |\n",
       "| link | Optional | None | YouTube Live link |\n",
       "| place | Optional | None | Location of live image |\n",
       "| **Returns** | **str** |  | **Path to the saved image** |"
      ]
     },
     "execution_count": null,
     "metadata": {},
     "output_type": "execute_result"
    }
   ],
   "source": [
    "show_doc(capture_youtube_live_frame)"
   ]
  },
  {
   "cell_type": "markdown",
   "id": "51e87a54",
   "metadata": {},
   "source": [
    "### Utility function for default Youtube Links\n",
    "\n",
    "Utility function for saving and retrieving some notable Youtube links."
   ]
  },
  {
   "cell_type": "code",
   "execution_count": null,
   "id": "a9e2d104",
   "metadata": {},
   "outputs": [],
   "source": [
    "#| export\n",
    "# Define the function for selecting Youtube Live URL\n",
    "def select_youtube_live_url(\n",
    "        location: Optional[str] = \"Helsinki\",  # Location name, one of [\"santaclausvillage\", \"parkinglot\", \"helsinki\", \"satellite\"]\n",
    "    ):\n",
    "    \"\"\"Select the Youtube Live URL based on the location name\"\"\"\n",
    "    if \"santa\" in location.lower():\n",
    "        return \"https://www.youtube.com/watch?v=Cp4RRAEgpeU\"\n",
    "    if \"parking\" in location.lower():\n",
    "        return \"https://www.youtube.com/watch?v=mwN6l3O1MNI\"\n",
    "    if \"satellite\" in location.lower():\n",
    "        return \"https://www.youtube.com/watch?v=xRPjKQtRXR8\"\n",
    "    else:\n",
    "        return \"https://www.youtube.com/watch?v=LMZQ7eFhm58\""
   ]
  },
  {
   "cell_type": "code",
   "execution_count": null,
   "id": "18cafd82",
   "metadata": {},
   "outputs": [
    {
     "data": {
      "text/markdown": [
       "---\n",
       "\n",
       "### select_youtube_live_url\n",
       "\n",
       ">      select_youtube_live_url (location:Optional[str]='Helsinki')\n",
       "\n",
       "*Select the Youtube Live URL based on the location name*\n",
       "\n",
       "|    | **Type** | **Default** | **Details** |\n",
       "| -- | -------- | ----------- | ----------- |\n",
       "| location | Optional | Helsinki | Location name, one of [\"santaclausvillage\", \"parkinglot\", \"helsinki\", \"satellite\"] |"
      ],
      "text/plain": [
       "---\n",
       "\n",
       "### select_youtube_live_url\n",
       "\n",
       ">      select_youtube_live_url (location:Optional[str]='Helsinki')\n",
       "\n",
       "*Select the Youtube Live URL based on the location name*\n",
       "\n",
       "|    | **Type** | **Default** | **Details** |\n",
       "| -- | -------- | ----------- | ----------- |\n",
       "| location | Optional | Helsinki | Location name, one of [\"santaclausvillage\", \"parkinglot\", \"helsinki\", \"satellite\"] |"
      ]
     },
     "execution_count": null,
     "metadata": {},
     "output_type": "execute_result"
    }
   ],
   "source": [
    "show_doc(select_youtube_live_url)"
   ]
  },
  {
   "cell_type": "markdown",
   "id": "2b8ff754",
   "metadata": {},
   "source": [
    "## Simulated GPT workflow\n",
    "\n",
    "Test integrating with our current GPT framework:"
   ]
  },
  {
   "cell_type": "code",
   "execution_count": null,
   "id": "9a37b21a",
   "metadata": {},
   "outputs": [
    {
     "name": "stdout",
     "output_type": "stream",
     "text": [
      "\u001b[1m\u001b[31m>> \u001b[43m\u001b[31mSystem:\u001b[0m\n",
      "You are a helpful system administrator. Use the supplied tools to assist the user.\n",
      "\u001b[1m\u001b[31m>> \u001b[43m\u001b[32mUser:\u001b[0m\n",
      "Hi, can you capture YouTube Live?\n",
      "\u001b[1m\u001b[31m>> \u001b[43m\u001b[34mAssistant:\u001b[0m\n",
      "Yes, I can capture a frame from a YouTube Live stream. Please provide the link to the YouTube Live\n",
      "stream you want to capture.\n"
     ]
    }
   ],
   "source": [
    "#| eval: false\n",
    "from llmcam.core.fc import *\n",
    "from llmcam.core.fn_to_schema import function_schema\n",
    "\n",
    "tools = [function_schema(capture_youtube_live_frame, \"Youtube Live Capture\")]\n",
    "messages = form_msgs([\n",
    "    (\"system\", \"You are a helpful system administrator. Use the supplied tools to assist the user.\"),\n",
    "    (\"user\", \"Hi, can you capture YouTube Live?\")\n",
    "])\n",
    "complete(messages, tools)\n",
    "print_msgs(messages)"
   ]
  },
  {
   "cell_type": "code",
   "execution_count": null,
   "id": "cb2738e6",
   "metadata": {},
   "outputs": [
    {
     "name": "stdout",
     "output_type": "stream",
     "text": [
      "[youtube] Extracting URL: https://www.youtube.com/watch?v=LMZQ7eFhm58\n",
      "[youtube] LMZQ7eFhm58: Downloading webpage\n",
      "[youtube] LMZQ7eFhm58: Downloading ios player API JSON\n",
      "[youtube] LMZQ7eFhm58: Downloading tv player API JSON\n",
      "[youtube] LMZQ7eFhm58: Downloading m3u8 information\n",
      "01.2025 02:24:12\n",
      "cap_2025.01.14_02:33:15_unclear.jpg\n",
      "\u001b[1m\u001b[31m>> \u001b[43m\u001b[31mSystem:\u001b[0m\n",
      "You are a helpful system administrator. Use the supplied tools to assist the user.\n",
      "\u001b[1m\u001b[31m>> \u001b[43m\u001b[32mUser:\u001b[0m\n",
      "Hi, can you capture YouTube Live?\n",
      "\u001b[1m\u001b[31m>> \u001b[43m\u001b[34mAssistant:\u001b[0m\n",
      "Yes, I can capture a frame from a YouTube Live stream. Please provide the link to the YouTube Live\n",
      "stream you want to capture.\n",
      "\u001b[1m\u001b[31m>> \u001b[43m\u001b[32mUser:\u001b[0m\n",
      "You can use the default link.\n",
      "\u001b[1m\u001b[31m>> \u001b[43m\u001b[34mAssistant:\u001b[0m\n",
      "I have captured a frame from the YouTube Live stream using the default link. You can find the image\n",
      "[here](sandbox:/home/nghivo/tinyMLaaS/llmcam/data/cap_2025.01.14_02:33:15_unclear.jpg).\n"
     ]
    }
   ],
   "source": [
    "#| eval: false\n",
    "# Continue the conversation\n",
    "messages.append(form_msg(\"user\", \"You can use the default link.\"))\n",
    "complete(messages, tools=tools)\n",
    "print_msgs(messages)"
   ]
  },
  {
   "cell_type": "markdown",
   "id": "d32c5e62",
   "metadata": {},
   "source": [
    "Another scenario (selecting with location):"
   ]
  },
  {
   "cell_type": "code",
   "execution_count": null,
   "id": "a3d895d7",
   "metadata": {},
   "outputs": [
    {
     "name": "stdout",
     "output_type": "stream",
     "text": [
      "[youtube] Extracting URL: https://www.youtube.com/watch?v=Cp4RRAEgpeU\n",
      "[youtube] Cp4RRAEgpeU: Downloading webpage\n",
      "[youtube] Cp4RRAEgpeU: Downloading ios player API JSON\n",
      "[youtube] Cp4RRAEgpeU: Downloading tv player API JSON\n",
      "[youtube] Cp4RRAEgpeU: Downloading m3u8 information\n",
      "\u001b[1m\u001b[31m>> \u001b[43m\u001b[31mSystem:\u001b[0m\n",
      "You are a helpful system administrator. Use the supplied tools to assist the user.\n",
      "\u001b[1m\u001b[31m>> \u001b[43m\u001b[32mUser:\u001b[0m\n",
      "Hi, can you capture an image from Santa Claus Village?\n",
      "\u001b[1m\u001b[31m>> \u001b[43m\u001b[34mAssistant:\u001b[0m\n",
      "I've captured an image from Santa Claus Village. You can view it\n",
      "[here](sandbox:/home/nghivo/tinyMLaaS/llmcam/data/cap_2025.01.14_02:33:41_santaclausvillage.jpg).\n"
     ]
    }
   ],
   "source": [
    "#| eval: false\n",
    "from llmcam.core.fc import *\n",
    "from llmcam.core.fn_to_schema import function_schema\n",
    "\n",
    "tools = [\n",
    "    function_schema(capture_youtube_live_frame, \"Youtube Live Capture\"),\n",
    "    function_schema(select_youtube_live_url, \"Select Youtube Live URL\")\n",
    "]\n",
    "messages = form_msgs([\n",
    "    (\"system\", \"You are a helpful system administrator. Use the supplied tools to assist the user.\"),\n",
    "    (\"user\", \"Hi, can you capture an image from Santa Claus Village?\")\n",
    "])\n",
    "complete(messages, tools)\n",
    "print_msgs(messages)"
   ]
  },
  {
   "cell_type": "code",
   "execution_count": null,
   "id": "516e28c8-21c2-4b3e-811d-ae2dfb3fa5bc",
   "metadata": {},
   "outputs": [],
   "source": [
    "#| hide\n",
    "import nbdev; nbdev.nbdev_export()"
   ]
  }
 ],
 "metadata": {
  "kernelspec": {
   "display_name": "python3",
   "language": "python",
   "name": "python3"
  }
 },
 "nbformat": 4,
 "nbformat_minor": 5
}
